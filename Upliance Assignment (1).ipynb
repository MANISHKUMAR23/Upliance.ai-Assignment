{
 "cells": [
  {
   "cell_type": "markdown",
   "id": "f86c03cd",
   "metadata": {},
   "source": [
    "# Loading the Data"
   ]
  },
  {
   "cell_type": "code",
   "execution_count": 1,
   "id": "5f54ae52",
   "metadata": {},
   "outputs": [],
   "source": [
    "import pandas as pd\n",
    "\n",
    "user_details = pd.read_excel(\"C:/Users/manis/Downloads/Data Analyst Intern Assignment - Excel.xlsx\", sheet_name='UserDetails.csv')\n",
    "cooking_sessions = pd.read_excel(\"C:/Users/manis/Downloads/Data Analyst Intern Assignment - Excel.xlsx\", sheet_name='CookingSessions.csv')\n",
    "order_details = pd.read_excel(\"C:/Users/manis/Downloads/Data Analyst Intern Assignment - Excel.xlsx\", sheet_name='OrderDetails.csv')\n"
   ]
  },
  {
   "cell_type": "markdown",
   "id": "415ac751",
   "metadata": {},
   "source": [
    "# Inspecting and Cleaning the Data"
   ]
  },
  {
   "cell_type": "code",
   "execution_count": 2,
   "id": "7a968671",
   "metadata": {},
   "outputs": [
    {
     "name": "stdout",
     "output_type": "stream",
     "text": [
      "User ID              0\n",
      "User Name            0\n",
      "Age                  0\n",
      "Location             0\n",
      "Registration Date    0\n",
      "Phone                0\n",
      "Email                0\n",
      "Favorite Meal        0\n",
      "Total Orders         0\n",
      "dtype: int64\n",
      "Session ID         0\n",
      "User ID            0\n",
      "Dish Name          0\n",
      "Meal Type          0\n",
      "Session Start      0\n",
      "Session End        0\n",
      "Duration (mins)    0\n",
      "Session Rating     0\n",
      "dtype: int64\n",
      "Order ID        0\n",
      "User ID         0\n",
      "Order Date      0\n",
      "Meal Type       0\n",
      "Dish Name       0\n",
      "Order Status    0\n",
      "Amount (USD)    0\n",
      "Time of Day     0\n",
      "Rating          2\n",
      "Session ID      0\n",
      "dtype: int64\n"
     ]
    }
   ],
   "source": [
    "print(user_details.isnull().sum())\n",
    "print(cooking_sessions.isnull().sum())\n",
    "print(order_details.isnull().sum())\n"
   ]
  },
  {
   "cell_type": "code",
   "execution_count": 3,
   "id": "82efc85b",
   "metadata": {},
   "outputs": [],
   "source": [
    "order_details['Rating'].fillna(order_details['Rating'].mean(), inplace=True)\n"
   ]
  },
  {
   "cell_type": "code",
   "execution_count": 4,
   "id": "91440aa2",
   "metadata": {},
   "outputs": [],
   "source": [
    "order_details['Order Date'] = pd.to_datetime(order_details['Order Date'])\n",
    "cooking_sessions['Session Start'] = pd.to_datetime(cooking_sessions['Session Start'])\n",
    "cooking_sessions['Session End'] = pd.to_datetime(cooking_sessions['Session End'])\n"
   ]
  },
  {
   "cell_type": "markdown",
   "id": "996d67bf",
   "metadata": {},
   "source": [
    "# Merging the Datasets"
   ]
  },
  {
   "cell_type": "code",
   "execution_count": 5,
   "id": "0b4deb00",
   "metadata": {},
   "outputs": [],
   "source": [
    "user_details = user_details.drop_duplicates(subset=['User ID'])\n",
    "cooking_sessions = cooking_sessions.drop_duplicates(subset=['User ID'])\n",
    "order_details = order_details.drop_duplicates(subset=['User ID'])\n"
   ]
  },
  {
   "cell_type": "code",
   "execution_count": 6,
   "id": "872da6da",
   "metadata": {},
   "outputs": [],
   "source": [
    "user_details['User ID'] = user_details['User ID'].str.strip().str.upper()\n",
    "cooking_sessions['User ID'] = cooking_sessions['User ID'].str.strip().str.upper()\n",
    "order_details['User ID'] = order_details['User ID'].str.strip().str.upper()\n"
   ]
  },
  {
   "cell_type": "code",
   "execution_count": 7,
   "id": "3c5ad74c",
   "metadata": {},
   "outputs": [
    {
     "name": "stdout",
     "output_type": "stream",
     "text": [
      "Missing in User Details: set()\n",
      "Missing in Cooking Sessions: set()\n"
     ]
    }
   ],
   "source": [
    "# Check for missing User IDs\n",
    "missing_in_user_details = set(order_details['User ID']) - set(user_details['User ID'])\n",
    "print(\"Missing in User Details:\", missing_in_user_details)\n",
    "\n",
    "missing_in_cooking_sessions = set(order_details['User ID']) - set(cooking_sessions['User ID'])\n",
    "print(\"Missing in Cooking Sessions:\", missing_in_cooking_sessions)\n"
   ]
  },
  {
   "cell_type": "code",
   "execution_count": 8,
   "id": "3a0aed07",
   "metadata": {},
   "outputs": [],
   "source": [
    "merged_data = pd.merge(order_details, cooking_sessions, on='User ID', how='outer')\n",
    "merged_data = pd.merge(merged_data, user_details, on='User ID', how='outer')\n"
   ]
  },
  {
   "cell_type": "code",
   "execution_count": 9,
   "id": "edf5b39f",
   "metadata": {},
   "outputs": [
    {
     "name": "stdout",
     "output_type": "stream",
     "text": [
      "Merged Data Preview:\n",
      "   Order ID User ID Order Date Meal Type_x      Dish Name_x Order Status  \\\n",
      "0    1001.0    U001 2024-12-01      Dinner        Spaghetti    Completed   \n",
      "1    1002.0    U002 2024-12-01       Lunch     Caesar Salad    Completed   \n",
      "2    1003.0    U003 2024-12-02      Dinner  Grilled Chicken     Canceled   \n",
      "3    1005.0    U004 2024-12-03       Lunch     Caesar Salad    Completed   \n",
      "4    1007.0    U005 2024-12-04      Dinner  Grilled Chicken    Completed   \n",
      "\n",
      "   Amount (USD) Time of Day    Rating Session ID_x  ... Duration (mins)  \\\n",
      "0          15.0       Night  5.000000         S001  ...            30.0   \n",
      "1          10.0         Day  4.000000         S002  ...            20.0   \n",
      "2          12.5       Night  4.285714         S003  ...            40.0   \n",
      "3           9.0         Day  4.000000         S005  ...            15.0   \n",
      "4          13.5       Night  4.000000         S007  ...            45.0   \n",
      "\n",
      "  Session Rating      User Name Age       Location  Registration Date  \\\n",
      "0            4.5  Alice Johnson  28       New York         2023-01-15   \n",
      "1            4.0      Bob Smith  35    Los Angeles         2023-02-20   \n",
      "2            4.8    Charlie Lee  42        Chicago         2023-03-10   \n",
      "3            4.7    David Brown  27  San Francisco         2023-04-05   \n",
      "4            4.6     Emma White  30        Seattle         2023-05-22   \n",
      "\n",
      "          Phone              Email  Favorite Meal Total Orders  \n",
      "0  123-456-7890    alice@email.com         Dinner           12  \n",
      "1  987-654-3210      bob@email.com          Lunch            8  \n",
      "2  555-123-4567  charlie@email.com      Breakfast           15  \n",
      "3  444-333-2222    david@email.com         Dinner           10  \n",
      "4  777-888-9999     emma@email.com          Lunch            9  \n",
      "\n",
      "[5 rows x 25 columns]\n",
      "Columns in Merged Data: Index(['Order ID', 'User ID', 'Order Date', 'Meal Type_x', 'Dish Name_x',\n",
      "       'Order Status', 'Amount (USD)', 'Time of Day', 'Rating', 'Session ID_x',\n",
      "       'Session ID_y', 'Dish Name_y', 'Meal Type_y', 'Session Start',\n",
      "       'Session End', 'Duration (mins)', 'Session Rating', 'User Name', 'Age',\n",
      "       'Location', 'Registration Date', 'Phone', 'Email', 'Favorite Meal',\n",
      "       'Total Orders'],\n",
      "      dtype='object')\n",
      "Total Rows in Merged Data: 10\n"
     ]
    }
   ],
   "source": [
    "print(\"Merged Data Preview:\")\n",
    "print(merged_data.head())\n",
    "\n",
    "print(\"Columns in Merged Data:\", merged_data.columns)\n",
    "print(\"Total Rows in Merged Data:\", len(merged_data))\n"
   ]
  },
  {
   "cell_type": "markdown",
   "id": "0044a6aa",
   "metadata": {},
   "source": [
    "# Analyzing the Relationships"
   ]
  },
  {
   "cell_type": "code",
   "execution_count": 10,
   "id": "d3d9a33d",
   "metadata": {},
   "outputs": [
    {
     "name": "stdout",
     "output_type": "stream",
     "text": [
      "Columns in merged_data: Index(['Order ID', 'User ID', 'Order Date', 'Meal Type_x', 'Dish Name_x',\n",
      "       'Order Status', 'Amount (USD)', 'Time of Day', 'Rating', 'Session ID_x',\n",
      "       'Session ID_y', 'Dish Name_y', 'Meal Type_y', 'Session Start',\n",
      "       'Session End', 'Duration (mins)', 'Session Rating', 'User Name', 'Age',\n",
      "       'Location', 'Registration Date', 'Phone', 'Email', 'Favorite Meal',\n",
      "       'Total Orders'],\n",
      "      dtype='object')\n"
     ]
    }
   ],
   "source": [
    "print(\"Columns in merged_data:\", merged_data.columns)\n"
   ]
  },
  {
   "cell_type": "code",
   "execution_count": 11,
   "id": "e84d6c2d",
   "metadata": {},
   "outputs": [
    {
     "name": "stdout",
     "output_type": "stream",
     "text": [
      "       Dish Name_x      Dish Name_y\n",
      "0        Spaghetti        Spaghetti\n",
      "1     Caesar Salad     Caesar Salad\n",
      "2  Grilled Chicken  Grilled Chicken\n",
      "7    Veggie Burger    Veggie Burger\n",
      "8              NaN              NaN\n"
     ]
    }
   ],
   "source": [
    "print(merged_data[['Dish Name_x', 'Dish Name_y']].drop_duplicates())\n"
   ]
  },
  {
   "cell_type": "code",
   "execution_count": 12,
   "id": "92c74699",
   "metadata": {},
   "outputs": [],
   "source": [
    "merged_data = merged_data.rename(columns={'Dish Name_x': 'Dish Name'})\n",
    "merged_data = merged_data.drop(columns=['Dish Name_y'])\n"
   ]
  },
  {
   "cell_type": "code",
   "execution_count": 13,
   "id": "262c8759",
   "metadata": {},
   "outputs": [
    {
     "name": "stdout",
     "output_type": "stream",
     "text": [
      "  User ID        Dish Name  Count\n",
      "0    U001        Spaghetti      1\n",
      "1    U002     Caesar Salad      1\n",
      "2    U003  Grilled Chicken      1\n",
      "3    U004     Caesar Salad      1\n",
      "4    U005  Grilled Chicken      1\n",
      "5    U006  Grilled Chicken      1\n",
      "6    U007        Spaghetti      1\n",
      "7    U008    Veggie Burger      1\n"
     ]
    }
   ],
   "source": [
    "# Group by 'User ID' and 'Dish Name' to count occurrences\n",
    "cooking_order_relation = merged_data.groupby(['User ID', 'Dish Name']).size().reset_index(name='Count')\n",
    "\n",
    "# Display the result\n",
    "print(cooking_order_relation)\n"
   ]
  },
  {
   "cell_type": "code",
   "execution_count": 14,
   "id": "cf539a7e",
   "metadata": {},
   "outputs": [
    {
     "name": "stdout",
     "output_type": "stream",
     "text": [
      "Grilled Chicken    3\n",
      "Spaghetti          2\n",
      "Caesar Salad       2\n",
      "Veggie Burger      1\n",
      "Name: Dish Name, dtype: int64\n"
     ]
    }
   ],
   "source": [
    "popular_dishes = merged_data['Dish Name'].value_counts()\n",
    "print(popular_dishes)\n"
   ]
  },
  {
   "cell_type": "code",
   "execution_count": 15,
   "id": "10300b44",
   "metadata": {},
   "outputs": [
    {
     "name": "stdout",
     "output_type": "stream",
     "text": [
      "Age\n",
      "25     7\n",
      "27    10\n",
      "28    12\n",
      "29     8\n",
      "30     9\n",
      "31     5\n",
      "33     6\n",
      "35     8\n",
      "38    14\n",
      "42    15\n",
      "Name: Total Orders, dtype: int64 Location\n",
      "Austin            7\n",
      "Boston           14\n",
      "Chicago          15\n",
      "Dallas            6\n",
      "Los Angeles       8\n",
      "Miami             5\n",
      "New York         12\n",
      "Phoenix           8\n",
      "San Francisco    10\n",
      "Seattle           9\n",
      "Name: Total Orders, dtype: int64\n"
     ]
    }
   ],
   "source": [
    "age_analysis = merged_data.groupby('Age')['Total Orders'].sum()\n",
    "location_analysis = merged_data.groupby('Location')['Total Orders'].sum()\n",
    "print(age_analysis, location_analysis)\n"
   ]
  },
  {
   "cell_type": "markdown",
   "id": "bf8694bc",
   "metadata": {},
   "source": [
    "# Visualizations"
   ]
  },
  {
   "cell_type": "code",
   "execution_count": 18,
   "id": "7aabfec5",
   "metadata": {},
   "outputs": [
    {
     "data": {
      "image/png": "[encoded data removed]",
      "text/plain": [
       "<Figure size 640x480 with 1 Axes>"
      ]
     },
     "metadata": {},
     "output_type": "display_data"
    }
   ],
   "source": [
    "import matplotlib.pyplot as plt\n",
    "\n",
    "popular_dishes.head(10).plot(kind='bar')\n",
    "plt.title('Top Popular Dishes')\n",
    "plt.xlabel('Dish Name')\n",
    "plt.ylabel('Frequency')\n",
    "plt.show()\n"
   ]
  },
  {
   "cell_type": "code",
   "execution_count": 17,
   "id": "cea1b56d",
   "metadata": {},
   "outputs": [
    {
     "data": {
      "image/png": "[encoded data removed]",
      "text/plain": [
       "<Figure size 640x480 with 1 Axes>"
      ]
     },
     "metadata": {},
     "output_type": "display_data"
    }
   ],
   "source": [
    "import seaborn as sns\n",
    "\n",
    "sns.barplot(x=merged_data['Age'], y=merged_data['Total Orders'])\n",
    "plt.title('User Activity by Age')\n",
    "plt.show()\n"
   ]
  },
  {
   "cell_type": "code",
   "execution_count": null,
   "id": "3e865047",
   "metadata": {},
   "outputs": [],
   "source": []
  }
 ],
 "metadata": {
  "kernelspec": {
   "display_name": "Python 3 (ipykernel)",
   "language": "python",
   "name": "python3"
  },
  "language_info": {
   "codemirror_mode": {
    "name": "ipython",
    "version": 3
   },
   "file_extension": ".py",
   "mimetype": "text/x-python",
   "name": "python",
   "nbconvert_exporter": "python",
   "pygments_lexer": "ipython3",
   "version": "3.10.9"
  }
 },
 "nbformat": 4,
 "nbformat_minor": 5
}
